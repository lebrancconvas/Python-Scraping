{
 "cells": [
  {
   "cell_type": "code",
   "execution_count": 1,
   "metadata": {},
   "outputs": [],
   "source": [
    "import pandas as pd\n",
    "import requests \n",
    "import bs4 \n",
    "from bs4 import BeautifulSoup\n",
    "from PIL import Image \n",
    "import io "
   ]
  },
  {
   "cell_type": "code",
   "execution_count": 3,
   "metadata": {},
   "outputs": [],
   "source": [
    "url = \"https://www.hinatazaka46.com/s/official/search/artist\"\n",
    "r = requests.get(url)\n",
    "s = BeautifulSoup(r.text, 'lxml')"
   ]
  },
  {
   "cell_type": "code",
   "execution_count": 4,
   "metadata": {},
   "outputs": [
    {
     "name": "stdout",
     "output_type": "stream",
     "text": [
      "潮紗理菜\n",
      "影山優佳\n",
      "加藤史帆\n",
      "齊藤京子\n",
      "佐々木久美\n",
      "佐々木美玲\n",
      "高瀬愛奈\n",
      "\n"
     ]
    }
   ],
   "source": [
    "members_list = ''\n",
    "for i in range(1, 8):\n",
    "  name_selector = f'body > div.l-wrap.p-wrap__bg > main > section > div > div.sorted.sort-default.current > div:nth-child(2) > div > ul > li:nth-child({i}) > a > div.c-member__name'\n",
    "  members = s.select(name_selector)\n",
    "  members_html = members[0]\n",
    "  members_text = members_html.text.split()\n",
    "  members_name = ''.join(members_text)\n",
    "  members_list += members_name + \"\\n\"\n",
    "\n",
    "print(members_list)  "
   ]
  }
 ],
 "metadata": {
  "interpreter": {
   "hash": "af79604d8e184c3ef00903d08fc3dd6669cfb685853d271eb88e3d50270d87f9"
  },
  "kernelspec": {
   "display_name": "Python 3.8.8 64-bit ('base': conda)",
   "language": "python",
   "name": "python3"
  },
  "language_info": {
   "codemirror_mode": {
    "name": "ipython",
    "version": 3
   },
   "file_extension": ".py",
   "mimetype": "text/x-python",
   "name": "python",
   "nbconvert_exporter": "python",
   "pygments_lexer": "ipython3",
   "version": "3.8.8"
  },
  "orig_nbformat": 4
 },
 "nbformat": 4,
 "nbformat_minor": 2
}
